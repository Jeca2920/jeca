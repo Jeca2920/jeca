{
 "cells": [
  {
   "cell_type": "code",
   "execution_count": 1,
   "id": "4dffae39",
   "metadata": {},
   "outputs": [
    {
     "name": "stdout",
     "output_type": "stream",
     "text": [
      "Discuss your learnings on from Chapter 9 to Chapter 17\n"
     ]
    }
   ],
   "source": [
    "print(\"Discuss your learnings on from Chapter 9 to Chapter 17\")"
   ]
  },
  {
   "cell_type": "code",
   "execution_count": null,
   "id": "349e58a9",
   "metadata": {},
   "outputs": [],
   "source": []
  }
 ],
 "metadata": {
  "kernelspec": {
   "display_name": "Python 3",
   "language": "python",
   "name": "python3"
  },
  "language_info": {
   "codemirror_mode": {
    "name": "ipython",
    "version": 3
   },
   "file_extension": ".py",
   "mimetype": "text/x-python",
   "name": "python",
   "nbconvert_exporter": "python",
   "pygments_lexer": "ipython3",
   "version": "3.8.6"
  }
 },
 "nbformat": 4,
 "nbformat_minor": 5
}
